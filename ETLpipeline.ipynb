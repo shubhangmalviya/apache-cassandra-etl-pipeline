{
 "cells": [
  {
   "cell_type": "markdown",
   "metadata": {
    "editable": true
   },
   "source": [
    "# Project: Data Modeling with Apache Cassandra"
   ]
  },
  {
   "cell_type": "markdown",
   "metadata": {
    "editable": true
   },
   "source": [
    "<img src=\"./images/cassandralogo.png\" width=\"250\" height=\"250\">"
   ]
  },
  {
   "cell_type": "markdown",
   "metadata": {
    "editable": true
   },
   "source": [
    "# Part I. ETL Pipeline for Pre-Processing the Files"
   ]
  },
  {
   "cell_type": "markdown",
   "metadata": {
    "editable": true
   },
   "source": [
    "#### Import Python packages "
   ]
  },
  {
   "cell_type": "code",
   "execution_count": 1,
   "metadata": {
    "editable": true
   },
   "outputs": [],
   "source": [
    "# Import Python packages \n",
    "import pandas as pd\n",
    "import cassandra\n",
    "import re\n",
    "import os\n",
    "import glob\n",
    "import numpy as np\n",
    "import json\n",
    "import csv"
   ]
  },
  {
   "cell_type": "markdown",
   "metadata": {
    "editable": true
   },
   "source": [
    "#### Creating list of filepaths to process original event csv data files"
   ]
  },
  {
   "cell_type": "code",
   "execution_count": 2,
   "metadata": {
    "editable": true
   },
   "outputs": [
    {
     "name": "stdout",
     "output_type": "stream",
     "text": [
      "/home/workspace\n"
     ]
    }
   ],
   "source": [
    "# checking your current working directory\n",
    "print(os.getcwd())\n",
    "\n",
    "# Get your current folder and subfolder event data\n",
    "filepath = os.getcwd() + '/event_data'\n",
    "\n",
    "# Create a for loop to create a list of files and collect each filepath\n",
    "for root, dirs, files in os.walk(filepath):\n",
    "    \n",
    "# join the file path and roots with the subdirectories using glob\n",
    "    file_path_list = glob.glob(os.path.join(root,'*'))\n",
    "    #print(file_path_list)"
   ]
  },
  {
   "cell_type": "markdown",
   "metadata": {
    "editable": true
   },
   "source": [
    "#### Processing the files to create the data file csv that will be used for Apache Casssandra tables"
   ]
  },
  {
   "cell_type": "code",
   "execution_count": 3,
   "metadata": {
    "editable": true
   },
   "outputs": [],
   "source": [
    "# initiating an empty list of rows that will be generated from each file\n",
    "full_data_rows_list = [] \n",
    "    \n",
    "# for every filepath in the file path list \n",
    "for f in file_path_list:\n",
    "\n",
    "# reading csv file \n",
    "    with open(f, 'r', encoding = 'utf8', newline='') as csvfile: \n",
    "        # creating a csv reader object \n",
    "        csvreader = csv.reader(csvfile) \n",
    "        next(csvreader)\n",
    "        \n",
    " # extracting each data row one by one and append it        \n",
    "        for line in csvreader:\n",
    "            #print(line)\n",
    "            full_data_rows_list.append(line) \n",
    "            \n",
    "# uncomment the code below if you would like to get total number of rows \n",
    "# print(len(full_data_rows_list))\n",
    "# uncomment the code below if you would like to check to see what the list of event data rows will look like\n",
    "# print(full_data_rows_list)\n",
    "\n",
    "# creating a smaller event data csv file called event_datafile_full csv that will be used to insert data into the \\\n",
    "# Apache Cassandra tables\n",
    "csv.register_dialect('myDialect', quoting=csv.QUOTE_ALL, skipinitialspace=True)\n",
    "\n",
    "with open('event_datafile_new.csv', 'w', encoding = 'utf8', newline='') as f:\n",
    "    writer = csv.writer(f, dialect='myDialect')\n",
    "    writer.writerow(['artist','firstName','gender','itemInSession','lastName','length',\\\n",
    "                'level','location','sessionId','song','userId'])\n",
    "    for row in full_data_rows_list:\n",
    "        if (row[0] == ''):\n",
    "            continue\n",
    "        writer.writerow((row[0], row[2], row[3], row[4], row[5], row[6], row[7], row[8], row[12], row[13], row[16]))\n"
   ]
  },
  {
   "cell_type": "code",
   "execution_count": 4,
   "metadata": {
    "editable": true
   },
   "outputs": [
    {
     "name": "stdout",
     "output_type": "stream",
     "text": [
      "6821\n"
     ]
    }
   ],
   "source": [
    "# check the number of rows in your csv file\n",
    "with open('event_datafile_new.csv', 'r', encoding = 'utf8') as f:\n",
    "    print(sum(1 for line in f))"
   ]
  },
  {
   "cell_type": "markdown",
   "metadata": {
    "editable": true
   },
   "source": [
    "# Part II. Complete the Apache Cassandra coding portion of your project. \n",
    "\n",
    "### The code works with the Generated CSV file titled <font color=blue>event_datafile_new.csv</font>, located within the Workspace directory. The event_datafile_new.csv contains the following columns: \n",
    "- artist \n",
    "- firstName of user\n",
    "- gender of user\n",
    "- item number in session\n",
    "- last name of user\n",
    "- length of the song\n",
    "- level (paid or free song)\n",
    "- location of the user\n",
    "- sessionId\n",
    "- song title\n",
    "- userId\n",
    "\n",
    "The image below is a screenshot of what the denormalized data should appear like in the <font color=red>**event_datafile_new.csv**</font> after the code above is run:<br>\n",
    "\n",
    "<img src=\"images/image_event_datafile_new.jpg\">"
   ]
  },
  {
   "cell_type": "markdown",
   "metadata": {
    "editable": true
   },
   "source": [
    "### Creating a connection to the database"
   ]
  },
  {
   "cell_type": "code",
   "execution_count": 5,
   "metadata": {
    "editable": true
   },
   "outputs": [],
   "source": [
    "from cassandra.cluster import Cluster\n",
    "try:\n",
    "    # Make a connection to a Cassandra instance on local machine (127.0.0.1)\n",
    "    cluster = Cluster(['127.0.0.1'])\n",
    "    # To establish connection and begin executing queries, need a session\n",
    "    session = cluster.connect()\n",
    "except Exception as e:\n",
    "    print(e)"
   ]
  },
  {
   "cell_type": "markdown",
   "metadata": {
    "editable": true
   },
   "source": [
    "### Creating a keyspace"
   ]
  },
  {
   "cell_type": "code",
   "execution_count": 6,
   "metadata": {
    "editable": true
   },
   "outputs": [],
   "source": [
    "# Create a Keyspace named sparkify\n",
    "try:\n",
    "    session.execute(\"\"\"\n",
    "                        CREATE KEYSPACE IF NOT EXISTS sparkify \n",
    "                        WITH REPLICATION = \n",
    "                        { 'class' : 'SimpleStrategy', 'replication_factor' : 1 }\n",
    "                    \"\"\")\n",
    "except Exception as e:\n",
    "    print(e)"
   ]
  },
  {
   "cell_type": "markdown",
   "metadata": {
    "editable": true
   },
   "source": [
    "#### Connectng to our Keyspace."
   ]
  },
  {
   "cell_type": "code",
   "execution_count": 7,
   "metadata": {
    "editable": true
   },
   "outputs": [],
   "source": [
    "# Set KEYSPACE to the keyspace specified above\n",
    "try:\n",
    "    session.set_keyspace('sparkify')\n",
    "except Exception as e:\n",
    "    print(e)"
   ]
  },
  {
   "cell_type": "markdown",
   "metadata": {
    "editable": true
   },
   "source": [
    "### Now we need to create tables to run the following queries. With Apache Cassandra we model the database tables on the queries we want to run."
   ]
  },
  {
   "cell_type": "markdown",
   "metadata": {
    "editable": true
   },
   "source": [
    "### We want to ask following first question of our data:\n",
    "\n",
    "#### 1. Give me the artist, song title and song's length in the music app history that was heard during  sessionId = 338, and itemInSession  = 4"
   ]
  },
  {
   "cell_type": "markdown",
   "metadata": {
    "editable": true
   },
   "source": [
    "#### Data Modeling for first query\n",
    "\n",
    "##### Since data is looking for `sessionId` and `itemInSession` we will make the primary key comprised of both the `sessionId` and `itemInSession` as composite partition key and in order to uniquely identify each row we will add the `userID` as clustering column "
   ]
  },
  {
   "cell_type": "code",
   "execution_count": 8,
   "metadata": {
    "editable": true
   },
   "outputs": [],
   "source": [
    "query_create_table_songinfo = \"\"\"CREATE TABLE IF NOT EXISTS song_info_in_session (\n",
    "                                            session_id int, \n",
    "                                            item_in_session int, \n",
    "                                            artist text, \n",
    "                                            song_title text, \n",
    "                                            song_length float, \n",
    "                                            user_id int,\n",
    "                                            PRIMARY KEY ((session_id, item_in_session), user_id)\n",
    "                                            )\"\"\"\n",
    "\n",
    "try:\n",
    "    session.execute(query_create_table_songinfo)\n",
    "except Exception as e:\n",
    "    print(e)                    "
   ]
  },
  {
   "cell_type": "markdown",
   "metadata": {
    "editable": true
   },
   "source": [
    "#### Insert the data into the table"
   ]
  },
  {
   "cell_type": "code",
   "execution_count": 9,
   "metadata": {
    "editable": true
   },
   "outputs": [],
   "source": [
    "file = 'event_datafile_new.csv'\n",
    "\n",
    "query = \"\"\"INSERT INTO song_info_in_session (\n",
    "                                                session_id, \n",
    "                                                item_in_session, \n",
    "                                                artist, \n",
    "                                                song_title, \n",
    "                                                song_length, \n",
    "                                                user_id\n",
    "                                            ) \"\"\"\n",
    "query = query + \"VALUES (%s, %s, %s, %s, %s, %s)\"\n",
    "\n",
    "with open(file, encoding = 'utf8') as f:\n",
    "    csvreader = csv.reader(f)\n",
    "    next(csvreader) # skip header\n",
    "    for line in csvreader:\n",
    "        try:\n",
    "            session.execute(query, (int(line[8]), int(line[3]), line[0], line[9], float(line[5]), int(line[10])))   \n",
    "        except Exception as e:\n",
    "            print(e)"
   ]
  },
  {
   "cell_type": "markdown",
   "metadata": {
    "editable": true
   },
   "source": [
    "#### Validate that we have correctly inserted the data by counting the total number of records inserted"
   ]
  },
  {
   "cell_type": "code",
   "execution_count": 10,
   "metadata": {
    "editable": true
   },
   "outputs": [
    {
     "name": "stdout",
     "output_type": "stream",
     "text": [
      "6820\n"
     ]
    }
   ],
   "source": [
    "query_select_song_info = \"\"\"SELECT count(*)\n",
    "                            FROM song_info_in_session\"\"\"\n",
    "\n",
    "try:\n",
    "    rows = session.execute(query_select_song_info)\n",
    "    print (rows[0].count)\n",
    "except Exception as e:\n",
    "    print(e)"
   ]
  },
  {
   "cell_type": "markdown",
   "metadata": {
    "editable": true
   },
   "source": [
    "#### Performing a SELECT to verify that the data have been inserted into each table"
   ]
  },
  {
   "cell_type": "code",
   "execution_count": 11,
   "metadata": {
    "editable": true,
    "scrolled": true
   },
   "outputs": [
    {
     "name": "stdout",
     "output_type": "stream",
     "text": [
      "338 4 Faithless Faithless Music Matters (Mark Knight Dub) 495.30731201171875 50\n"
     ]
    }
   ],
   "source": [
    "## SELECT statement verifies the data was entered into the table\n",
    "query_select_song_info = \"\"\"SELECT *\n",
    "                            FROM song_info_in_session\n",
    "                            WHERE session_id=338 AND item_in_session=4\"\"\"\n",
    "\n",
    "try:\n",
    "    rows = session.execute(query_select_song_info)\n",
    "    for row in rows:\n",
    "        print (row.session_id, row.item_in_session, row.artist, \n",
    "               row.artist,  row.song_title, row.song_length, row.user_id)\n",
    "except Exception as e:\n",
    "    print(e)"
   ]
  },
  {
   "cell_type": "markdown",
   "metadata": {
    "editable": true
   },
   "source": [
    "### We want to ask following second question of our data:\n",
    "\n",
    "#### 2. Give me only the following: name of artist, song (sorted by itemInSession) and user (first and last name) for userid = 10, sessionid = 182\n",
    "\n",
    "#### Data Modeling for second query\n",
    "\n",
    "##### Since data is looking for `userid` and `sessionid` we will make the primary key comprised of both the `userid` and `sessionid` as composite partition key and in order to uniquely identify each row and sort by `itemInSession`, `firstName` and `lastName` we will add the `itemInSession`, `firstName` and `lastName` as clustering column "
   ]
  },
  {
   "cell_type": "code",
   "execution_count": 12,
   "metadata": {
    "editable": true
   },
   "outputs": [],
   "source": [
    "query_create_user_song_preferences = \"\"\"CREATE TABLE IF NOT EXISTS user_song_preferenes (\n",
    "                                        artist text,\n",
    "                                        song_title text,\n",
    "                                        user_id int,\n",
    "                                        first_name text,\n",
    "                                        last_name text,\n",
    "                                        item_in_session int, \n",
    "                                        session_id int,\n",
    "                                        PRIMARY KEY ((user_id, session_id), item_in_session, first_name, last_name)\n",
    "                                        )\"\"\"\n",
    "              \n",
    "try:\n",
    "    session.execute(query_create_user_song_preferences)\n",
    "except Exception as e:\n",
    "    print(e) "
   ]
  },
  {
   "cell_type": "markdown",
   "metadata": {
    "editable": true
   },
   "source": [
    "#### Insert the data into the table"
   ]
  },
  {
   "cell_type": "code",
   "execution_count": 13,
   "metadata": {
    "editable": true
   },
   "outputs": [],
   "source": [
    "file = 'event_datafile_new.csv'\n",
    "\n",
    "query_insert_user_song_preferenes = \"\"\"INSERT INTO user_song_preferenes (\n",
    "                                                artist, \n",
    "                                                song_title, \n",
    "                                                user_id, \n",
    "                                                first_name, \n",
    "                                                last_name, \n",
    "                                                item_in_session,\n",
    "                                                session_id\n",
    "                                            ) \"\"\"\n",
    "query_insert_user_song_preferenes = query_insert_user_song_preferenes + \"VALUES (%s, %s, %s, %s, %s, %s, %s)\"\n",
    "\n",
    "with open(file, encoding = 'utf8') as f:\n",
    "    csvreader = csv.reader(f)\n",
    "    next(csvreader) # skip header\n",
    "    for line in csvreader:\n",
    "        try:\n",
    "            session.execute(query_insert_user_song_preferenes, \n",
    "                            (line[0], line[9], int(line[10]), line[1], line[4], int(line[3]), int(line[8])))  \n",
    "        except Exception as e:\n",
    "            print(e)"
   ]
  },
  {
   "cell_type": "markdown",
   "metadata": {
    "editable": true
   },
   "source": [
    "#### Performing a SELECT to verify that the data have been inserted into each table"
   ]
  },
  {
   "cell_type": "code",
   "execution_count": 14,
   "metadata": {
    "editable": true
   },
   "outputs": [
    {
     "name": "stdout",
     "output_type": "stream",
     "text": [
      "Down To The Bone Keep On Keepin' On 10 Sylvie Cruz 0 182\n",
      "Three Drives Greece 2000 10 Sylvie Cruz 1 182\n",
      "Sebastien Tellier Kilometer 10 Sylvie Cruz 2 182\n",
      "Lonnie Gordon Catch You Baby (Steve Pitron & Max Sanna Radio Edit) 10 Sylvie Cruz 3 182\n"
     ]
    }
   ],
   "source": [
    "## The SELECT statement verifies the data was entered into the table\n",
    "query_select_user_song_preferences = \"\"\"SELECT *\n",
    "                            FROM user_song_preferenes\n",
    "                            WHERE user_id=10 AND session_id=182\"\"\"\n",
    "\n",
    "try:\n",
    "    rows = session.execute(query_select_user_song_preferences)\n",
    "    for row in rows:\n",
    "        print (row.artist, row.song_title, row.user_id, row.first_name, \n",
    "               row.last_name, row.item_in_session, row.session_id)\n",
    "except Exception as e:\n",
    "    print(e)"
   ]
  },
  {
   "cell_type": "markdown",
   "metadata": {
    "editable": true
   },
   "source": [
    "#### Validate that we have correctly inserted the data by counting the total number of records inserted"
   ]
  },
  {
   "cell_type": "code",
   "execution_count": 15,
   "metadata": {
    "editable": true
   },
   "outputs": [
    {
     "name": "stdout",
     "output_type": "stream",
     "text": [
      "6820\n"
     ]
    }
   ],
   "source": [
    "query_select_user_song_preferenes = \"\"\"SELECT count(*)\n",
    "                            FROM user_song_preferenes\"\"\"\n",
    "\n",
    "try:\n",
    "    rows = session.execute(query_select_user_song_preferenes)\n",
    "    print (rows[0].count)\n",
    "except Exception as e:\n",
    "    print(e)"
   ]
  },
  {
   "cell_type": "markdown",
   "metadata": {
    "editable": true
   },
   "source": [
    "### We want to ask following third question of our data:\n",
    "\n",
    "### 3. Give me every user name (first and last) in my music app history who listened to the song 'All Hands Against His Own'\n",
    "\n",
    "#### Data Modeling for third query\n",
    "\n",
    "##### Since data is looking for `song` we will make the primary key comprised of both the `song` as simple partition key and in order to uniquely identify each row and sort by `firstName`, `lastName`, `sessionid`, `userid`, `itemInSession` we will add the `firstName`, `lastName`, `sessionid`, `userid`, `itemInSession` as clustering column "
   ]
  },
  {
   "cell_type": "code",
   "execution_count": 16,
   "metadata": {
    "editable": true
   },
   "outputs": [],
   "source": [
    "query_create_user_music_history = \"\"\"CREATE TABLE IF NOT EXISTS user_music_history (\n",
    "                                         user_id int,\n",
    "                                         first_name text,\n",
    "                                         last_name text,\n",
    "                                         song text, \n",
    "                                         item_in_session int,\n",
    "                                         session_id int,\n",
    "                                         PRIMARY KEY (song, first_name, last_name, session_id, user_id, item_in_session)\n",
    "                                    )\"\"\"\n",
    "\n",
    "try:\n",
    "    session.execute(query_create_user_music_history)\n",
    "except Exception as e:\n",
    "    print(e) "
   ]
  },
  {
   "cell_type": "markdown",
   "metadata": {
    "editable": true
   },
   "source": [
    "#### Insert the data into the table"
   ]
  },
  {
   "cell_type": "code",
   "execution_count": 17,
   "metadata": {
    "editable": true
   },
   "outputs": [],
   "source": [
    "file = 'event_datafile_new.csv'\n",
    "\n",
    "query_insert_user_music_history = \"\"\"INSERT INTO user_music_history (\n",
    "                                                user_id, \n",
    "                                                first_name, \n",
    "                                                last_name, \n",
    "                                                song,\n",
    "                                                item_in_session,\n",
    "                                                session_id\n",
    "                                            ) \"\"\"\n",
    "query_insert_user_music_history = query_insert_user_music_history + \"VALUES (%s, %s, %s, %s, %s, %s)\"\n",
    "\n",
    "with open(file, encoding = 'utf8') as f:\n",
    "    csvreader = csv.reader(f)\n",
    "    next(csvreader) # skip header\n",
    "    for line in csvreader:\n",
    "        try:\n",
    "            session.execute(query_insert_user_music_history, \n",
    "                            (int(line[10]), line[1], line[4], line[9], int(line[3]), int(line[8])))  \n",
    "        except Exception as e:\n",
    "            print(e)"
   ]
  },
  {
   "cell_type": "markdown",
   "metadata": {
    "editable": true
   },
   "source": [
    "#### Performing a SELECT to verify that the data have been inserted into each table"
   ]
  },
  {
   "cell_type": "code",
   "execution_count": 18,
   "metadata": {
    "editable": true
   },
   "outputs": [
    {
     "name": "stdout",
     "output_type": "stream",
     "text": [
      "29 Jacqueline Lynch All Hands Against His Own 50 559\n",
      "95 Sara Johnson All Hands Against His Own 31 152\n",
      "80 Tegan Levine All Hands Against His Own 25 611\n"
     ]
    }
   ],
   "source": [
    "## The SELECT statement verifies the data was entered into the table\n",
    "query_select_user_music_history = \"\"\"SELECT *\n",
    "                            FROM user_music_history\n",
    "                            WHERE song='All Hands Against His Own'\"\"\"\n",
    "\n",
    "try:\n",
    "    rows = session.execute(query_select_user_music_history)\n",
    "    for row in rows:\n",
    "        print (row.user_id, row.first_name, row.last_name, row.song, row.item_in_session, row.session_id)\n",
    "except Exception as e:\n",
    "    print (e)"
   ]
  },
  {
   "cell_type": "markdown",
   "metadata": {
    "editable": true
   },
   "source": [
    "#### Validate that we have correctly inserted the data by counting the total number of records inserted"
   ]
  },
  {
   "cell_type": "code",
   "execution_count": 19,
   "metadata": {
    "editable": true
   },
   "outputs": [
    {
     "name": "stdout",
     "output_type": "stream",
     "text": [
      "6820\n"
     ]
    }
   ],
   "source": [
    "query_select_user_music_history = \"\"\"SELECT count(*)\n",
    "                            FROM user_music_history\"\"\"\n",
    "\n",
    "try:\n",
    "    rows = session.execute(query_select_user_music_history)\n",
    "    print (rows[0].count)\n",
    "except Exception as e:\n",
    "    print(e)"
   ]
  },
  {
   "cell_type": "markdown",
   "metadata": {
    "editable": true
   },
   "source": [
    "### Drop the tables before closing out the sessions"
   ]
  },
  {
   "cell_type": "code",
   "execution_count": 20,
   "metadata": {
    "editable": true
   },
   "outputs": [],
   "source": [
    "## Drop the table before closing out the sessions\n",
    "query_drop_table_song_info_in_session = \"drop table song_info_in_session\"\n",
    "try:\n",
    "    rows = session.execute(query_drop_table_song_info_in_session)\n",
    "except Exception as e:\n",
    "    print(e)"
   ]
  },
  {
   "cell_type": "code",
   "execution_count": 21,
   "metadata": {
    "editable": true
   },
   "outputs": [],
   "source": [
    "query_drop_table_user_song_preferenes = \"drop table user_song_preferenes\"\n",
    "try:\n",
    "    rows = session.execute(query_drop_table_user_song_preferenes)\n",
    "except Exception as e:\n",
    "    print(e)"
   ]
  },
  {
   "cell_type": "code",
   "execution_count": 22,
   "metadata": {
    "editable": true
   },
   "outputs": [],
   "source": [
    "query_drop_table_user_music_history = \"drop table user_music_history\"\n",
    "try:\n",
    "    rows = session.execute(query_drop_table_user_music_history)\n",
    "except Exception as e:\n",
    "    print(e)"
   ]
  },
  {
   "cell_type": "code",
   "execution_count": 23,
   "metadata": {
    "editable": true
   },
   "outputs": [],
   "source": [
    "query = \"drop keyspace sparkify\"\n",
    "try:\n",
    "    rows = session.execute(query)\n",
    "except Exception as e:\n",
    "    print(e)"
   ]
  },
  {
   "cell_type": "markdown",
   "metadata": {
    "editable": true
   },
   "source": [
    "### Close the session and cluster connection¶"
   ]
  },
  {
   "cell_type": "code",
   "execution_count": 24,
   "metadata": {
    "editable": true
   },
   "outputs": [],
   "source": [
    "session.shutdown()\n",
    "cluster.shutdown()"
   ]
  }
 ],
 "metadata": {
  "kernelspec": {
   "display_name": "Python 3",
   "language": "python",
   "name": "python3"
  },
  "language_info": {
   "codemirror_mode": {
    "name": "ipython",
    "version": 3
   },
   "file_extension": ".py",
   "mimetype": "text/x-python",
   "name": "python",
   "nbconvert_exporter": "python",
   "pygments_lexer": "ipython3",
   "version": "3.6.3"
  }
 },
 "nbformat": 4,
 "nbformat_minor": 4
}
